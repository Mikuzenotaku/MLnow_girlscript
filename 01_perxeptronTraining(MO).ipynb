{
  "nbformat": 4,
  "nbformat_minor": 0,
  "metadata": {
    "colab": {
      "name": "01_perxeptronTraining(MO).ipynb",
      "provenance": [],
      "mount_file_id": "12Pd_tHxPnE5wFIGpncl8-sUM8eM1oLaX",
      "authorship_tag": "ABX9TyMWBVzusqRP7g3oLDjj7zmQ",
      "include_colab_link": true
    },
    "kernelspec": {
      "name": "python3",
      "display_name": "Python 3"
    },
    "language_info": {
      "name": "python"
    }
  },
  "cells": [
    {
      "cell_type": "markdown",
      "metadata": {
        "id": "view-in-github",
        "colab_type": "text"
      },
      "source": [
        "<a href=\"https://colab.research.google.com/github/Mikuzenotaku/MLnow_girlscript/blob/main/01_perxeptronTraining(MO).ipynb\" target=\"_parent\"><img src=\"https://colab.research.google.com/assets/colab-badge.svg\" alt=\"Open In Colab\"/></a>"
      ]
    },
    {
      "cell_type": "code",
      "metadata": {
        "colab": {
          "base_uri": "https://localhost:8080/"
        },
        "id": "eN_Fsh4Djrck",
        "outputId": "53d56f24-0346-4994-b492-418232bf40d0"
      },
      "source": [
        "print('Hello world')"
      ],
      "execution_count": null,
      "outputs": [
        {
          "output_type": "stream",
          "text": [
            "Hello world\n"
          ],
          "name": "stdout"
        }
      ]
    },
    {
      "cell_type": "markdown",
      "metadata": {
        "id": "sCtkbogb7kmB"
      },
      "source": [
        "**Date Created**: May 24,2021\n",
        "\n",
        "#Author:Prashanti Garnaik\n",
        "\n",
        "#Problem statemeant:\n",
        "Teach model to predict on the following equation.\n",
        "\n",
        "Equation:y=10*x\n",
        "\n",
        "Target data-->\n"
      ]
    },
    {
      "cell_type": "code",
      "metadata": {
        "id": "XZBXCORp8gUM",
        "colab": {
          "base_uri": "https://localhost:8080/"
        },
        "outputId": "8f1bcc4a-0a4a-486f-c75c-c4679b2891c5"
      },
      "source": [
        "xTrain=[0,1,2,3,4,5,...]\n",
        "yTrain=[0,10,20,30,40,50,...]\n",
        "xTrain=[i for i in range(21)]\n",
        "print(xTrain)"
      ],
      "execution_count": 1,
      "outputs": [
        {
          "output_type": "stream",
          "text": [
            "[0, 1, 2, 3, 4, 5, 6, 7, 8, 9, 10, 11, 12, 13, 14, 15, 16, 17, 18, 19, 20]\n"
          ],
          "name": "stdout"
        }
      ]
    },
    {
      "cell_type": "code",
      "metadata": {
        "colab": {
          "base_uri": "https://localhost:8080/"
        },
        "id": "jbQqYO_o5nJq",
        "outputId": "bf8c7e19-7201-465b-c6c4-3aafba434623"
      },
      "source": [
        "yTrain=[i for i in range(10*20+1)if i%10==0]\n",
        "print(yTrain)"
      ],
      "execution_count": 2,
      "outputs": [
        {
          "output_type": "stream",
          "text": [
            "[0, 10, 20, 30, 40, 50, 60, 70, 80, 90, 100, 110, 120, 130, 140, 150, 160, 170, 180, 190, 200]\n"
          ],
          "name": "stdout"
        }
      ]
    },
    {
      "cell_type": "markdown",
      "metadata": {
        "id": "4tcrXppI6VbE"
      },
      "source": [
        "##Approch 1\n",
        "\n",
        "Definig a function for  the equation:y=10*x\n",
        "\n"
      ]
    },
    {
      "cell_type": "code",
      "metadata": {
        "colab": {
          "base_uri": "https://localhost:8080/"
        },
        "id": "c8wGi29z7XPX",
        "outputId": "1db7a34c-1c00-4d27-c19f-1fdcbc738dd3"
      },
      "source": [
        "def tableofTen(x):\n",
        "  y=10*x\n",
        "  return y\n",
        "\n",
        "\n",
        "for value in xTrain:\n",
        "  print(tableofTen(value))"
      ],
      "execution_count": 13,
      "outputs": [
        {
          "output_type": "stream",
          "text": [
            "0\n",
            "10\n",
            "20\n",
            "30\n",
            "40\n",
            "50\n",
            "60\n",
            "70\n",
            "80\n",
            "90\n",
            "100\n",
            "110\n",
            "120\n",
            "130\n",
            "140\n",
            "150\n",
            "160\n",
            "170\n",
            "180\n",
            "190\n",
            "200\n"
          ],
          "name": "stdout"
        }
      ]
    }
  ]
}