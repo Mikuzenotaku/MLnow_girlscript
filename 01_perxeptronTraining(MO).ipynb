{
  "nbformat": 4,
  "nbformat_minor": 0,
  "metadata": {
    "colab": {
      "name": "01_perxeptronTraining(MO).ipynb",
      "provenance": [],
      "mount_file_id": "12Pd_tHxPnE5wFIGpncl8-sUM8eM1oLaX",
      "authorship_tag": "ABX9TyMp6Jh29pOljBWQLmfYHNgb",
      "include_colab_link": true
    },
    "kernelspec": {
      "name": "python3",
      "display_name": "Python 3"
    },
    "language_info": {
      "name": "python"
    }
  },
  "cells": [
    {
      "cell_type": "markdown",
      "metadata": {
        "id": "view-in-github",
        "colab_type": "text"
      },
      "source": [
        "<a href=\"https://colab.research.google.com/github/Mikuzenotaku/MLnow_girlscript/blob/main/01_perxeptronTraining(MO).ipynb\" target=\"_parent\"><img src=\"https://colab.research.google.com/assets/colab-badge.svg\" alt=\"Open In Colab\"/></a>"
      ]
    },
    {
      "cell_type": "code",
      "metadata": {
        "colab": {
          "base_uri": "https://localhost:8080/"
        },
        "id": "eN_Fsh4Djrck",
        "outputId": "53d56f24-0346-4994-b492-418232bf40d0"
      },
      "source": [
        "print('Hello world')"
      ],
      "execution_count": 1,
      "outputs": [
        {
          "output_type": "stream",
          "text": [
            "Hello world\n"
          ],
          "name": "stdout"
        }
      ]
    }
  ]
}